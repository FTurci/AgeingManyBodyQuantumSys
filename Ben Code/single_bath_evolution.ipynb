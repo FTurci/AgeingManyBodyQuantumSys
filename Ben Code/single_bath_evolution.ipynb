{
 "cells": [
  {
   "cell_type": "code",
   "execution_count": null,
   "id": "66e5b670",
   "metadata": {},
   "outputs": [],
   "source": [
    "using ITensors, ITensorMPS, PolyChaos, Plots, Base.Threads\n",
    "Threads.nthreads()"
   ]
  },
  {
   "cell_type": "markdown",
   "id": "d302c23a",
   "metadata": {},
   "source": [
    "Variables"
   ]
  },
  {
   "cell_type": "code",
   "execution_count": null,
   "id": "fbb6b41d",
   "metadata": {},
   "outputs": [],
   "source": [
    "beta = 10 #inverse temperature \n",
    "mu = 0.0 #chemical potential\n",
    "N = 50 #number of sites in each chain\n",
    "Es = 0.0 #system site energy\n",
    "D = 1. #bandwidth\n",
    "J_0 = 0.005 #system-bath coupling prefactor"
   ]
  },
  {
   "cell_type": "markdown",
   "id": "a2977855",
   "metadata": {},
   "source": [
    "Spectral function, thermofield transformation of spectral function, orthogonal polynomial chain mapping"
   ]
  },
  {
   "cell_type": "code",
   "execution_count": null,
   "id": "fe142fa5",
   "metadata": {},
   "outputs": [],
   "source": [
    "J(omega) = (-1. <= omega < 1.) ? J_0 * sqrt(1 - (omega/D)^2) : 0.0  #g(x) = x so h^2(x) = J(x)                                             \n",
    "\n",
    "J1(omega) = J(omega) * fermi(omega) #effective empty mode spectral density\n",
    "J2(omega) = J(omega) * (1 - fermi(omega)) #effective filled mode spectral density\n",
    "\n",
    "fermi(k) = 1/(1 + exp(beta*k - beta*mu)) #fermi-dirac distribution\n",
    "\n",
    "function chain_map(J, supp=(-1,1))\n",
    "    \"\"\"calculates family of monic orthogonal polynomials w.r.t the measure J(x) up to the Nth term.\n",
    "    returns the coefficients alpha and beta from the recurrence relation of the family.\"\"\"\n",
    "    meas = Measure(\"bath\", J, supp, false, Dict())\n",
    "    ortho_poly = OrthoPoly(\"bath_op\", N, meas; Nquad=2000)   \n",
    "    AB = coeffs(ortho_poly)                                  \n",
    "    return AB                             \n",
    "end"
   ]
  },
  {
   "cell_type": "markdown",
   "id": "4a57d9a4",
   "metadata": {},
   "source": [
    "generation and plotting of chain coefficients (site energies and hoppings)"
   ]
  },
  {
   "cell_type": "code",
   "execution_count": null,
   "id": "2546c9c5",
   "metadata": {},
   "outputs": [],
   "source": [
    "chain1 = chain_map(J1) #coefficients from empty chain polynomials\n",
    "chain2 = chain_map(J2) #coefficients from filled chain polynomials\n",
    "\n",
    "energies1 = chain1[:,1] #on-site energies of empty chain\n",
    "hopping1 = sqrt.(chain1[2:N+1,2]) #nearest neighbour hoppings of empty chain\n",
    "\n",
    "energies2 = chain2[:,1] #on-site energies of filled chain\n",
    "hopping2 = sqrt.(chain2[2:N+1,2]) #nearest neighbour hoppings of filled chain\n",
    "\n",
    "p1 = plot(energies1, xlabel=\"n\", ylabel=\"energy\", label=\"filled chain\")\n",
    "plot!(p1, energies2, label=\"empty chain\")\n",
    "p2 = plot(hopping1, xlabel=\"n\", ylabel=\"hopping\", label=\"filled chain\")\n",
    "plot!(p2, hopping2, label=\"empty chain\")\n",
    "\n",
    "display(plot(p1,p2))\n"
   ]
  },
  {
   "cell_type": "markdown",
   "id": "01796eb2",
   "metadata": {},
   "source": [
    "creation of initial state MPS and Hamiltonian MPO"
   ]
  },
  {
   "cell_type": "code",
   "execution_count": null,
   "id": "bfddd72f",
   "metadata": {},
   "outputs": [],
   "source": [
    "sites = siteinds(\"Fermion\", 2*N+1, conserve_qns=true) #assuming that truncated bath remains approximately closed within simulation time\n",
    "\n",
    "states = [(j <= N) ? \"Occ\" : \"Emp\" for j=1:2*N+1]\n",
    "\n",
    "psi0 = productMPS(sites, states)\n",
    "\n",
    "init_occ = expect(psi0, \"N\")\n",
    "display(plot(1:(2N+1), init_occ),xlabel=\"site\",ylabel=\"occupation\",title=\"initial occupations\")\n",
    "\n",
    "sys = N+1\n",
    "\n",
    "function Hamiltonian(E1, E2, h1, h2, sites, Es, N, sys)\n",
    "    ampo = AutoMPO()\n",
    "    t1 = reverse(h1[2:end]) #empty chain NN couplings\n",
    "    t2 = reverse(h2[2:end]) #filled chain NN couplings\n",
    "    g1 = h1[1] #empty chain-system coupling\n",
    "    g2 = h2[1] #filled chain-system coupling\n",
    "    \n",
    "    println(\"system-bath couplings are $g1 and $g2\")\n",
    "    for j in 1:N\n",
    "        add!(ampo, E1[j], \"N\", j)\n",
    "    end\n",
    "    for j in 1:N\n",
    "        add!(ampo, E1[j], \"N\", j)\n",
    "    end\n",
    "    for j in 1:N-1\n",
    "        add!(ampo, t1[j], \"Cdag\", j, \"C\", j+1)\n",
    "        add!(ampo, t1[j], \"Cdag\", j+1, \"C\", j)\n",
    "    end\n",
    "    for j in 1:N\n",
    "        add!(ampo, E2[j], \"N\", sys + j)\n",
    "    end\n",
    "    for j in 1:N-1\n",
    "        add!(ampo, t2[j], \"Cdag\", sys + j, \"C\", sys + j + 1)\n",
    "        add!(ampo, t2[j], \"Cdag\", sys + j + 1, \"C\", sys + j)\n",
    "    end\n",
    "    # system onsite\n",
    "    add!(ampo, Es, \"N\", sys)\n",
    "    add!(ampo, g1, \"Cdag\", sys, \"C\", N);         add!(ampo, g1, \"Cdag\", N, \"C\", sys)\n",
    "    add!(ampo, g2, \"Cdag\", sys, \"C\", sys + 1);    add!(ampo, g2, \"Cdag\", sys + 1,  \"C\", sys)\n",
    "    return MPO(ampo, sites)\n",
    "end"
   ]
  },
  {
   "cell_type": "markdown",
   "id": "1b45ea6d",
   "metadata": {},
   "source": [
    "TDVP time evolution of MPS via Hamiltonian MPO"
   ]
  },
  {
   "cell_type": "code",
   "execution_count": null,
   "id": "53bdf92f",
   "metadata": {},
   "outputs": [],
   "source": [
    "sweeps = Sweeps(2); maxdim!(sweeps, 400, 800); cutoff!(sweeps, 1e-9)\n",
    "H = Hamiltonian(energies1, energies2, hopping1, hopping2, sites, 0.0, N, sys)\n",
    "println(H)\n",
    "let\n",
    "    psi = psi0\n",
    "    dt = 0.1\n",
    "    tmax = 7\n",
    "    ts = collect(dt:dt:tmax)\n",
    "    len = length(ts)\n",
    "    nSys = zeros(len)\n",
    "    nCheck = zeros(len)\n",
    "    for k in 1:len\n",
    "        psi = ITensorMPS.tdvp(H, -im*dt, psi;nsite=2, outputlevel=0,mindim=1, maxdim=100); #time_step=dt, nsweeps=sweeps, order=2)\n",
    "        num = expect(psi, \"N\")\n",
    "        nSys[k] = num[sys]\n",
    "        nCheck[k] = num[2N+1]\n",
    "        println(\"timstep $k of $len complete\")\n",
    "\n",
    "    end\n",
    "    display(plot(ts,nSys,xlabel=\"time\",ylabel=\"occupation\",title=r\"$N=$N, \\\\beta=$beta, \\\\mu=$mu$\"))\n",
    "    display(plot(ts,nCheck,xlabel=\"time\",ylabel=\"occupation\",title=\"check occupation of last site\"))    \n",
    "end "
   ]
  }
 ],
 "metadata": {
  "kernelspec": {
   "display_name": "Julia 1.11.7",
   "language": "julia",
   "name": "julia-1.11"
  },
  "language_info": {
   "file_extension": ".jl",
   "mimetype": "application/julia",
   "name": "julia",
   "version": "1.11.7"
  }
 },
 "nbformat": 4,
 "nbformat_minor": 5
}
