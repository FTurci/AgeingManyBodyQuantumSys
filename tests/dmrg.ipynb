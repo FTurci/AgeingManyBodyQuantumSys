{
 "cells": [
  {
   "cell_type": "markdown",
   "metadata": {},
   "source": [
    "# Testing Julia and Itensors"
   ]
  },
  {
   "cell_type": "markdown",
   "metadata": {},
   "source": [
    "#### Simple 1d vector"
   ]
  },
  {
   "cell_type": "code",
   "execution_count": 2,
   "metadata": {},
   "outputs": [
    {
     "name": "stdout",
     "output_type": "stream",
     "text": [
      "[1, 2, 3, 4]"
     ]
    }
   ],
   "source": [
    "my_array = [1,2,3,4]\n",
    "print(my_array)"
   ]
  },
  {
   "cell_type": "code",
   "execution_count": 4,
   "metadata": {},
   "outputs": [
    {
     "data": {
      "text/plain": [
       "Vector{Int64}\u001b[90m (alias for \u001b[39m\u001b[90mArray{Int64, 1}\u001b[39m\u001b[90m)\u001b[39m"
      ]
     },
     "metadata": {},
     "output_type": "display_data"
    }
   ],
   "source": [
    "typeof(my_array)"
   ]
  },
  {
   "cell_type": "markdown",
   "metadata": {},
   "source": [
    "#### 2d matrices"
   ]
  },
  {
   "cell_type": "code",
   "execution_count": 6,
   "metadata": {},
   "outputs": [
    {
     "data": {
      "text/plain": [
       "3×2 Matrix{Int64}:\n",
       " 6573        6573\n",
       "   -1          -1\n",
       "    0  5251709728"
      ]
     },
     "metadata": {},
     "output_type": "display_data"
    }
   ],
   "source": [
    "my_matrix = Array{Int,2}(undef,3,2)\n",
    "display(my_matrix)"
   ]
  },
  {
   "cell_type": "markdown",
   "metadata": {},
   "source": [
    "#### Slicing"
   ]
  },
  {
   "cell_type": "code",
   "execution_count": 13,
   "metadata": {},
   "outputs": [
    {
     "data": {
      "text/plain": [
       "3×2 Matrix{Int64}:\n",
       " 0        52584\n",
       " 0           -8\n",
       " 0  42013677824"
      ]
     },
     "metadata": {},
     "output_type": "display_data"
    }
   ],
   "source": [
    "my_matrix[:,1] .= 0 #notice that for element-wise operations we need the extra \".\"\n",
    "display(my_matrix)"
   ]
  },
  {
   "cell_type": "code",
   "execution_count": 14,
   "metadata": {},
   "outputs": [
    {
     "data": {
      "text/plain": [
       "3×2 Matrix{Int64}:\n",
       " 0       105168\n",
       " 0          -16\n",
       " 0  84027355648"
      ]
     },
     "metadata": {},
     "output_type": "display_data"
    }
   ],
   "source": [
    "my_matrix[:,2] .*=2\n",
    "display(my_matrix)"
   ]
  },
  {
   "cell_type": "markdown",
   "metadata": {},
   "source": [
    "#### Scalar product"
   ]
  },
  {
   "cell_type": "code",
   "execution_count": 17,
   "metadata": {},
   "outputs": [
    {
     "data": {
      "text/plain": [
       "14"
      ]
     },
     "metadata": {},
     "output_type": "display_data"
    }
   ],
   "source": [
    "# explicit\n",
    "a = [1,2,3]\n",
    "\n",
    "sum(a.*a)"
   ]
  },
  {
   "cell_type": "code",
   "execution_count": 21,
   "metadata": {},
   "outputs": [
    {
     "data": {
      "text/plain": [
       "14"
      ]
     },
     "metadata": {},
     "output_type": "display_data"
    }
   ],
   "source": [
    "# implicit using the LinearAlgebra library\n",
    "using LinearAlgebra \n",
    "dot(a,a)"
   ]
  },
  {
   "cell_type": "markdown",
   "metadata": {},
   "source": [
    "*Aside.* To know where a function/object comes from, use `@which`. The `@` indicates that it is a `macro`, i.e. a function that operates on the code, instead of operating on the variables ."
   ]
  },
  {
   "cell_type": "code",
   "execution_count": 22,
   "metadata": {},
   "outputs": [
    {
     "data": {
      "text/plain": [
       "LinearAlgebra"
      ]
     },
     "metadata": {},
     "output_type": "display_data"
    }
   ],
   "source": [
    "@which dot"
   ]
  },
  {
   "cell_type": "code",
   "execution_count": 23,
   "metadata": {},
   "outputs": [
    {
     "data": {
      "text/plain": [
       "Core"
      ]
     },
     "metadata": {},
     "output_type": "display_data"
    }
   ],
   "source": [
    "@which Array"
   ]
  },
  {
   "cell_type": "markdown",
   "metadata": {},
   "source": [
    "#### Matrix product"
   ]
  },
  {
   "cell_type": "code",
   "execution_count": 34,
   "metadata": {},
   "outputs": [
    {
     "data": {
      "text/plain": [
       "2×3 Matrix{Int64}:\n",
       " 1  2  -3\n",
       " 4  5  -6"
      ]
     },
     "metadata": {},
     "output_type": "display_data"
    }
   ],
   "source": [
    "A = [1 2 3;4 5 6]\n",
    "B = [1 0 0;0 1 0;0 0 -1]\n",
    "\n",
    "A*B"
   ]
  },
  {
   "cell_type": "markdown",
   "metadata": {},
   "source": [
    "## Going for ITensors"
   ]
  },
  {
   "cell_type": "code",
   "execution_count": 36,
   "metadata": {},
   "outputs": [],
   "source": [
    "using ITensors\n"
   ]
  },
  {
   "cell_type": "code",
   "execution_count": 37,
   "metadata": {},
   "outputs": [
    {
     "name": "stdout",
     "output_type": "stream",
     "text": [
      "T = ITensor ord=2\n",
      "Dim 1: (dim=2|id=724|\"i\")\n",
      "Dim 2: (dim=3|id=716|\"j\")\n",
      "NDTensors.Dense{Float64, Vector{Float64}}\n",
      " 2×3\n",
      "  0.7469664204940403  0.012163622475878325  -0.6839668448785299\n",
      " -0.5453448726999787  0.7638911775123087    -1.6440188766979806\n"
     ]
    },
    {
     "data": {
      "text/plain": [
       "ITensor ord=2 (dim=2|id=724|\"i\") (dim=3|id=716|\"j\")\n",
       "NDTensors.Dense{Float64, Vector{Float64}}"
      ]
     },
     "metadata": {},
     "output_type": "display_data"
    }
   ],
   "source": [
    "let\n",
    "    # For example:\n",
    "    i = Index(2,\"i\")\n",
    "    j = Index(3,\"j\")\n",
    "    T = random_itensor(i,j)\n",
    "    @show T\n",
    "end"
   ]
  },
  {
   "cell_type": "markdown",
   "metadata": {},
   "source": [
    "## Breakdown of first tutorial: DMRG\n",
    "\n",
    "\n",
    "### 1 Specifying the problem: provide a Hamiltonian\n",
    "\n",
    "\n",
    "The tutorial uses the following Hamiltonian\n",
    "\n",
    "$$ H=\\sum_{j=1}^{N-1} \\mathbf{S}_j \\cdot \\mathbf{S}_{j+1}=\\sum_{j=1}^{N-1} S_j^z S_{j+1}^z+\\frac{1}{2} S_j^{+} S_{j+1}^{-}+\\frac{1}{2} S_j^{-} S_{j+1}^{+} $$"
   ]
  },
  {
   "cell_type": "code",
   "execution_count": 2,
   "metadata": {},
   "outputs": [],
   "source": [
    "using ITensors, ITensorMPS"
   ]
  },
  {
   "cell_type": "markdown",
   "metadata": {},
   "source": [
    "First we create an `index` object that has the properties of bosons (spins 1, $S=1$). This means that the spin can take values $-1,0,1$ so they are 3-dimensional.\n",
    "\n",
    "ITensor adds a tag\"S=1\" that helps with teh construction of the Hamiltonian (I need to check this)."
   ]
  },
  {
   "cell_type": "code",
   "execution_count": 4,
   "metadata": {},
   "outputs": [
    {
     "data": {
      "text/plain": [
       "50-element Vector{Index{Int64}}:\n",
       " (dim=3|id=382|\"S=1,Site,n=1\")\n",
       " (dim=3|id=645|\"S=1,Site,n=2\")\n",
       " (dim=3|id=840|\"S=1,Site,n=3\")\n",
       " (dim=3|id=38|\"S=1,Site,n=4\")\n",
       " (dim=3|id=884|\"S=1,Site,n=5\")\n",
       " (dim=3|id=289|\"S=1,Site,n=6\")\n",
       " (dim=3|id=784|\"S=1,Site,n=7\")\n",
       " (dim=3|id=732|\"S=1,Site,n=8\")\n",
       " (dim=3|id=319|\"S=1,Site,n=9\")\n",
       " (dim=3|id=130|\"S=1,Site,n=10\")\n",
       " ⋮\n",
       " (dim=3|id=551|\"S=1,Site,n=42\")\n",
       " (dim=3|id=571|\"S=1,Site,n=43\")\n",
       " (dim=3|id=461|\"S=1,Site,n=44\")\n",
       " (dim=3|id=198|\"S=1,Site,n=45\")\n",
       " (dim=3|id=58|\"S=1,Site,n=46\")\n",
       " (dim=3|id=706|\"S=1,Site,n=47\")\n",
       " (dim=3|id=67|\"S=1,Site,n=48\")\n",
       " (dim=3|id=496|\"S=1,Site,n=49\")\n",
       " (dim=3|id=946|\"S=1,Site,n=50\")"
      ]
     },
     "metadata": {},
     "output_type": "display_data"
    }
   ],
   "source": [
    "N = 50\n",
    "sites = siteinds(\"S=1\",N)\n"
   ]
  },
  {
   "cell_type": "markdown",
   "metadata": {},
   "source": [
    "The Hamiltonian is defined from a **sum of operators**"
   ]
  },
  {
   "cell_type": "code",
   "execution_count": 5,
   "metadata": {},
   "outputs": [
    {
     "data": {
      "text/plain": [
       "sum(\n",
       "\n",
       ")"
      ]
     },
     "metadata": {},
     "output_type": "display_data"
    }
   ],
   "source": [
    "os = OpSum()"
   ]
  },
  {
   "cell_type": "markdown",
   "metadata": {},
   "source": [
    "it is built via **accumulation** to express the sums above"
   ]
  },
  {
   "cell_type": "code",
   "execution_count": 6,
   "metadata": {},
   "outputs": [],
   "source": [
    "for j=1:N-1\n",
    "    os += \"Sz\",j,\"Sz\",j+1 \n",
    "    os += 1/2,\"S+\",j,\"S-\",j+1\n",
    "    os += 1/2,\"S+\",j,\"S-\",j+1\n",
    "end"
   ]
  },
  {
   "cell_type": "markdown",
   "metadata": {},
   "source": [
    "The Hamiltonian proper is a **Matrix Product Operator** on the sites"
   ]
  },
  {
   "cell_type": "code",
   "execution_count": 7,
   "metadata": {},
   "outputs": [
    {
     "data": {
      "text/plain": [
       "MPO\n",
       "[1] ((dim=4|id=8|\"Link,l=1\"), (dim=3|id=382|\"S=1,Site,n=1\")', (dim=3|id=382|\"S=1,Site,n=1\"))\n",
       "[2] ((dim=4|id=8|\"Link,l=1\"), (dim=4|id=362|\"Link,l=2\"), (dim=3|id=645|\"S=1,Site,n=2\")', (dim=3|id=645|\"S=1,Site,n=2\"))\n",
       "[3] ((dim=4|id=362|\"Link,l=2\"), (dim=4|id=389|\"Link,l=3\"), (dim=3|id=840|\"S=1,Site,n=3\")', (dim=3|id=840|\"S=1,Site,n=3\"))\n",
       "[4] ((dim=4|id=389|\"Link,l=3\"), (dim=4|id=310|\"Link,l=4\"), (dim=3|id=38|\"S=1,Site,n=4\")', (dim=3|id=38|\"S=1,Site,n=4\"))\n",
       "[5] ((dim=4|id=310|\"Link,l=4\"), (dim=4|id=730|\"Link,l=5\"), (dim=3|id=884|\"S=1,Site,n=5\")', (dim=3|id=884|\"S=1,Site,n=5\"))\n",
       "[6] ((dim=4|id=730|\"Link,l=5\"), (dim=4|id=137|\"Link,l=6\"), (dim=3|id=289|\"S=1,Site,n=6\")', (dim=3|id=289|\"S=1,Site,n=6\"))\n",
       "[7] ((dim=4|id=137|\"Link,l=6\"), (dim=4|id=347|\"Link,l=7\"), (dim=3|id=784|\"S=1,Site,n=7\")', (dim=3|id=784|\"S=1,Site,n=7\"))\n",
       "[8] ((dim=4|id=347|\"Link,l=7\"), (dim=4|id=390|\"Link,l=8\"), (dim=3|id=732|\"S=1,Site,n=8\")', (dim=3|id=732|\"S=1,Site,n=8\"))\n",
       "[9] ((dim=4|id=390|\"Link,l=8\"), (dim=4|id=459|\"Link,l=9\"), (dim=3|id=319|\"S=1,Site,n=9\")', (dim=3|id=319|\"S=1,Site,n=9\"))\n",
       "[10] ((dim=4|id=459|\"Link,l=9\"), (dim=4|id=486|\"Link,l=10\"), (dim=3|id=130|\"S=1,Site,n=10\")', (dim=3|id=130|\"S=1,Site,n=10\"))\n",
       "[11] ((dim=4|id=486|\"Link,l=10\"), (dim=4|id=340|\"Link,l=11\"), (dim=3|id=671|\"S=1,Site,n=11\")', (dim=3|id=671|\"S=1,Site,n=11\"))\n",
       "[12] ((dim=4|id=340|\"Link,l=11\"), (dim=4|id=246|\"Link,l=12\"), (dim=3|id=303|\"S=1,Site,n=12\")', (dim=3|id=303|\"S=1,Site,n=12\"))\n",
       "[13] ((dim=4|id=246|\"Link,l=12\"), (dim=4|id=240|\"Link,l=13\"), (dim=3|id=316|\"S=1,Site,n=13\")', (dim=3|id=316|\"S=1,Site,n=13\"))\n",
       "[14] ((dim=4|id=240|\"Link,l=13\"), (dim=4|id=17|\"Link,l=14\"), (dim=3|id=389|\"S=1,Site,n=14\")', (dim=3|id=389|\"S=1,Site,n=14\"))\n",
       "[15] ((dim=4|id=17|\"Link,l=14\"), (dim=4|id=548|\"Link,l=15\"), (dim=3|id=869|\"S=1,Site,n=15\")', (dim=3|id=869|\"S=1,Site,n=15\"))\n",
       "[16] ((dim=4|id=548|\"Link,l=15\"), (dim=4|id=521|\"Link,l=16\"), (dim=3|id=180|\"S=1,Site,n=16\")', (dim=3|id=180|\"S=1,Site,n=16\"))\n",
       "[17] ((dim=4|id=521|\"Link,l=16\"), (dim=4|id=46|\"Link,l=17\"), (dim=3|id=879|\"S=1,Site,n=17\")', (dim=3|id=879|\"S=1,Site,n=17\"))\n",
       "[18] ((dim=4|id=46|\"Link,l=17\"), (dim=4|id=423|\"Link,l=18\"), (dim=3|id=247|\"S=1,Site,n=18\")', (dim=3|id=247|\"S=1,Site,n=18\"))\n",
       "[19] ((dim=4|id=423|\"Link,l=18\"), (dim=4|id=424|\"Link,l=19\"), (dim=3|id=773|\"S=1,Site,n=19\")', (dim=3|id=773|\"S=1,Site,n=19\"))\n",
       "[20] ((dim=4|id=424|\"Link,l=19\"), (dim=4|id=540|\"Link,l=20\"), (dim=3|id=588|\"S=1,Site,n=20\")', (dim=3|id=588|\"S=1,Site,n=20\"))\n",
       "[21] ((dim=4|id=540|\"Link,l=20\"), (dim=4|id=832|\"Link,l=21\"), (dim=3|id=653|\"S=1,Site,n=21\")', (dim=3|id=653|\"S=1,Site,n=21\"))\n",
       "[22] ((dim=4|id=832|\"Link,l=21\"), (dim=4|id=255|\"Link,l=22\"), (dim=3|id=419|\"S=1,Site,n=22\")', (dim=3|id=419|\"S=1,Site,n=22\"))\n",
       "[23] ((dim=4|id=255|\"Link,l=22\"), (dim=4|id=927|\"Link,l=23\"), (dim=3|id=718|\"S=1,Site,n=23\")', (dim=3|id=718|\"S=1,Site,n=23\"))\n",
       "[24] ((dim=4|id=927|\"Link,l=23\"), (dim=4|id=508|\"Link,l=24\"), (dim=3|id=726|\"S=1,Site,n=24\")', (dim=3|id=726|\"S=1,Site,n=24\"))\n",
       "[25] ((dim=4|id=508|\"Link,l=24\"), (dim=4|id=150|\"Link,l=25\"), (dim=3|id=21|\"S=1,Site,n=25\")', (dim=3|id=21|\"S=1,Site,n=25\"))\n",
       "[26] ((dim=4|id=150|\"Link,l=25\"), (dim=4|id=148|\"Link,l=26\"), (dim=3|id=449|\"S=1,Site,n=26\")', (dim=3|id=449|\"S=1,Site,n=26\"))\n",
       "[27] ((dim=4|id=148|\"Link,l=26\"), (dim=4|id=182|\"Link,l=27\"), (dim=3|id=583|\"S=1,Site,n=27\")', (dim=3|id=583|\"S=1,Site,n=27\"))\n",
       "[28] ((dim=4|id=182|\"Link,l=27\"), (dim=4|id=932|\"Link,l=28\"), (dim=3|id=208|\"S=1,Site,n=28\")', (dim=3|id=208|\"S=1,Site,n=28\"))\n",
       "[29] ((dim=4|id=932|\"Link,l=28\"), (dim=4|id=970|\"Link,l=29\"), (dim=3|id=635|\"S=1,Site,n=29\")', (dim=3|id=635|\"S=1,Site,n=29\"))\n",
       "[30] ((dim=4|id=970|\"Link,l=29\"), (dim=4|id=822|\"Link,l=30\"), (dim=3|id=19|\"S=1,Site,n=30\")', (dim=3|id=19|\"S=1,Site,n=30\"))\n",
       "[31] ((dim=4|id=822|\"Link,l=30\"), (dim=4|id=856|\"Link,l=31\"), (dim=3|id=374|\"S=1,Site,n=31\")', (dim=3|id=374|\"S=1,Site,n=31\"))\n",
       "[32] ((dim=4|id=856|\"Link,l=31\"), (dim=4|id=846|\"Link,l=32\"), (dim=3|id=617|\"S=1,Site,n=32\")', (dim=3|id=617|\"S=1,Site,n=32\"))\n",
       "[33] ((dim=4|id=846|\"Link,l=32\"), (dim=4|id=106|\"Link,l=33\"), (dim=3|id=539|\"S=1,Site,n=33\")', (dim=3|id=539|\"S=1,Site,n=33\"))\n",
       "[34] ((dim=4|id=106|\"Link,l=33\"), (dim=4|id=722|\"Link,l=34\"), (dim=3|id=287|\"S=1,Site,n=34\")', (dim=3|id=287|\"S=1,Site,n=34\"))\n",
       "[35] ((dim=4|id=722|\"Link,l=34\"), (dim=4|id=902|\"Link,l=35\"), (dim=3|id=568|\"S=1,Site,n=35\")', (dim=3|id=568|\"S=1,Site,n=35\"))\n",
       "[36] ((dim=4|id=902|\"Link,l=35\"), (dim=4|id=906|\"Link,l=36\"), (dim=3|id=351|\"S=1,Site,n=36\")', (dim=3|id=351|\"S=1,Site,n=36\"))\n",
       "[37] ((dim=4|id=906|\"Link,l=36\"), (dim=4|id=135|\"Link,l=37\"), (dim=3|id=425|\"S=1,Site,n=37\")', (dim=3|id=425|\"S=1,Site,n=37\"))\n",
       "[38] ((dim=4|id=135|\"Link,l=37\"), (dim=4|id=548|\"Link,l=38\"), (dim=3|id=618|\"S=1,Site,n=38\")', (dim=3|id=618|\"S=1,Site,n=38\"))\n",
       "[39] ((dim=4|id=548|\"Link,l=38\"), (dim=4|id=843|\"Link,l=39\"), (dim=3|id=307|\"S=1,Site,n=39\")', (dim=3|id=307|\"S=1,Site,n=39\"))\n",
       "[40] ((dim=4|id=843|\"Link,l=39\"), (dim=4|id=864|\"Link,l=40\"), (dim=3|id=592|\"S=1,Site,n=40\")', (dim=3|id=592|\"S=1,Site,n=40\"))\n",
       "[41] ((dim=4|id=864|\"Link,l=40\"), (dim=4|id=266|\"Link,l=41\"), (dim=3|id=813|\"S=1,Site,n=41\")', (dim=3|id=813|\"S=1,Site,n=41\"))\n",
       "[42] ((dim=4|id=266|\"Link,l=41\"), (dim=4|id=667|\"Link,l=42\"), (dim=3|id=551|\"S=1,Site,n=42\")', (dim=3|id=551|\"S=1,Site,n=42\"))\n",
       "[43] ((dim=4|id=667|\"Link,l=42\"), (dim=4|id=922|\"Link,l=43\"), (dim=3|id=571|\"S=1,Site,n=43\")', (dim=3|id=571|\"S=1,Site,n=43\"))\n",
       "[44] ((dim=4|id=922|\"Link,l=43\"), (dim=4|id=994|\"Link,l=44\"), (dim=3|id=461|\"S=1,Site,n=44\")', (dim=3|id=461|\"S=1,Site,n=44\"))\n",
       "[45] ((dim=4|id=994|\"Link,l=44\"), (dim=4|id=557|\"Link,l=45\"), (dim=3|id=198|\"S=1,Site,n=45\")', (dim=3|id=198|\"S=1,Site,n=45\"))\n",
       "[46] ((dim=4|id=557|\"Link,l=45\"), (dim=4|id=831|\"Link,l=46\"), (dim=3|id=58|\"S=1,Site,n=46\")', (dim=3|id=58|\"S=1,Site,n=46\"))\n",
       "[47] ((dim=4|id=831|\"Link,l=46\"), (dim=4|id=471|\"Link,l=47\"), (dim=3|id=706|\"S=1,Site,n=47\")', (dim=3|id=706|\"S=1,Site,n=47\"))\n",
       "[48] ((dim=4|id=471|\"Link,l=47\"), (dim=4|id=458|\"Link,l=48\"), (dim=3|id=67|\"S=1,Site,n=48\")', (dim=3|id=67|\"S=1,Site,n=48\"))\n",
       "[49] ((dim=4|id=458|\"Link,l=48\"), (dim=4|id=395|\"Link,l=49\"), (dim=3|id=496|\"S=1,Site,n=49\")', (dim=3|id=496|\"S=1,Site,n=49\"))\n",
       "[50] ((dim=4|id=395|\"Link,l=49\"), (dim=3|id=946|\"S=1,Site,n=50\")', (dim=3|id=946|\"S=1,Site,n=50\"))\n"
      ]
     },
     "metadata": {},
     "output_type": "display_data"
    }
   ],
   "source": [
    "H = MPO(os,sites)"
   ]
  },
  {
   "cell_type": "markdown",
   "metadata": {},
   "source": [
    "The initial state of the system can be a random **Matrix Product State** on the sites. \n",
    "\n",
    "Apparently it is **unbiased**, whatever that truly means. A bond-dimension needs to be specified, and this corresponds to the number of states kept in a DMRG calculation. So, naively, the higher the bond dimension, the more accurate the representation of the state space, and the more accurate is the final calculation. It is not clear to me that a systematic knowledge of the error exists or whether it is Hamiltonian-specific."
   ]
  },
  {
   "cell_type": "code",
   "execution_count": 8,
   "metadata": {},
   "outputs": [],
   "source": [
    "psi0 = random_mps(sites;linkdims=10);"
   ]
  },
  {
   "cell_type": "markdown",
   "metadata": {},
   "source": [
    "We now perform a number of iterations of the DMRG algorithm. At every iteration, the bond dimension will increase, se we need to set bounds on the maximal bond dimension."
   ]
  },
  {
   "cell_type": "code",
   "execution_count": 9,
   "metadata": {},
   "outputs": [
    {
     "data": {
      "text/plain": [
       "1-element Vector{Float64}:\n",
       " 1.0e-10"
      ]
     },
     "metadata": {},
     "output_type": "display_data"
    }
   ],
   "source": [
    "nsweeps = 5\n",
    "maxdim = [10,20,100,100,200]\n",
    "cutoff = [1E-10]"
   ]
  },
  {
   "cell_type": "markdown",
   "metadata": {},
   "source": [
    "We run  the dmrg explicitely"
   ]
  },
  {
   "cell_type": "code",
   "execution_count": 56,
   "metadata": {},
   "outputs": [
    {
     "name": "stdout",
     "output_type": "stream",
     "text": [
      "After sweep 1 energy=-110.38148966367507  maxlinkdim=10 maxerr=2.88E-02 time=8.587\n",
      "After sweep 2 energy=-130.0185137592874  maxlinkdim=20 maxerr=2.89E-05 time=0.165\n",
      "After sweep 3 energy=-136.35679163958602  maxlinkdim=100 maxerr=1.37E-10 time=3.365\n",
      "After sweep 4 energy=-145.36061054737175  maxlinkdim=100 maxerr=7.54E-08 time=9.361\n",
      "After sweep 5 energy=-159.63506587769282  maxlinkdim=200 maxerr=2.50E-10 time=20.081\n"
     ]
    },
    {
     "data": {
      "text/plain": [
       "(-159.63506587769282, MPS\n",
       "[1] ((dim=3|id=872|\"Link,l=1\"), (dim=3|id=453|\"S=1,Site,n=1\"))\n",
       "[2] ((dim=8|id=897|\"Link,l=2\"), (dim=3|id=343|\"S=1,Site,n=2\"), (dim=3|id=872|\"Link,l=1\"))\n",
       "[3] ((dim=3|id=526|\"S=1,Site,n=3\"), (dim=22|id=639|\"Link,l=3\"), (dim=8|id=897|\"Link,l=2\"))\n",
       "[4] ((dim=3|id=437|\"S=1,Site,n=4\"), (dim=59|id=365|\"Link,l=4\"), (dim=22|id=639|\"Link,l=3\"))\n",
       "[5] ((dim=3|id=685|\"S=1,Site,n=5\"), (dim=123|id=455|\"Link,l=5\"), (dim=59|id=365|\"Link,l=4\"))\n",
       "[6] ((dim=3|id=603|\"S=1,Site,n=6\"), (dim=194|id=906|\"Link,l=6\"), (dim=123|id=455|\"Link,l=5\"))\n",
       "[7] ((dim=3|id=986|\"S=1,Site,n=7\"), (dim=200|id=961|\"Link,l=7\"), (dim=194|id=906|\"Link,l=6\"))\n",
       "[8] ((dim=3|id=568|\"S=1,Site,n=8\"), (dim=200|id=910|\"Link,l=8\"), (dim=200|id=961|\"Link,l=7\"))\n",
       "[9] ((dim=3|id=406|\"S=1,Site,n=9\"), (dim=200|id=87|\"Link,l=9\"), (dim=200|id=910|\"Link,l=8\"))\n",
       "[10] ((dim=3|id=116|\"S=1,Site,n=10\"), (dim=200|id=870|\"Link,l=10\"), (dim=200|id=87|\"Link,l=9\"))\n",
       "[11] ((dim=3|id=977|\"S=1,Site,n=11\"), (dim=200|id=418|\"Link,l=11\"), (dim=200|id=870|\"Link,l=10\"))\n",
       "[12] ((dim=3|id=348|\"S=1,Site,n=12\"), (dim=200|id=665|\"Link,l=12\"), (dim=200|id=418|\"Link,l=11\"))\n",
       "[13] ((dim=3|id=992|\"S=1,Site,n=13\"), (dim=200|id=836|\"Link,l=13\"), (dim=200|id=665|\"Link,l=12\"))\n",
       "[14] ((dim=3|id=26|\"S=1,Site,n=14\"), (dim=200|id=125|\"Link,l=14\"), (dim=200|id=836|\"Link,l=13\"))\n",
       "[15] ((dim=3|id=689|\"S=1,Site,n=15\"), (dim=200|id=26|\"Link,l=15\"), (dim=200|id=125|\"Link,l=14\"))\n",
       "[16] ((dim=3|id=398|\"S=1,Site,n=16\"), (dim=198|id=167|\"Link,l=16\"), (dim=200|id=26|\"Link,l=15\"))\n",
       "[17] ((dim=3|id=876|\"S=1,Site,n=17\"), (dim=196|id=566|\"Link,l=17\"), (dim=198|id=167|\"Link,l=16\"))\n",
       "[18] ((dim=3|id=588|\"S=1,Site,n=18\"), (dim=192|id=167|\"Link,l=18\"), (dim=196|id=566|\"Link,l=17\"))\n",
       "[19] ((dim=3|id=543|\"S=1,Site,n=19\"), (dim=194|id=181|\"Link,l=19\"), (dim=192|id=167|\"Link,l=18\"))\n",
       "[20] ((dim=3|id=239|\"S=1,Site,n=20\"), (dim=196|id=121|\"Link,l=20\"), (dim=194|id=181|\"Link,l=19\"))\n",
       "[21] ((dim=3|id=99|\"S=1,Site,n=21\"), (dim=200|id=159|\"Link,l=21\"), (dim=196|id=121|\"Link,l=20\"))\n",
       "[22] ((dim=3|id=896|\"S=1,Site,n=22\"), (dim=200|id=868|\"Link,l=22\"), (dim=200|id=159|\"Link,l=21\"))\n",
       "[23] ((dim=3|id=503|\"S=1,Site,n=23\"), (dim=200|id=749|\"Link,l=23\"), (dim=200|id=868|\"Link,l=22\"))\n",
       "[24] ((dim=3|id=951|\"S=1,Site,n=24\"), (dim=200|id=197|\"Link,l=24\"), (dim=200|id=749|\"Link,l=23\"))\n",
       "[25] ((dim=3|id=40|\"S=1,Site,n=25\"), (dim=200|id=30|\"Link,l=25\"), (dim=200|id=197|\"Link,l=24\"))\n",
       "[26] ((dim=3|id=258|\"S=1,Site,n=26\"), (dim=200|id=730|\"Link,l=26\"), (dim=200|id=30|\"Link,l=25\"))\n",
       "[27] ((dim=3|id=152|\"S=1,Site,n=27\"), (dim=200|id=720|\"Link,l=27\"), (dim=200|id=730|\"Link,l=26\"))\n",
       "[28] ((dim=3|id=269|\"S=1,Site,n=28\"), (dim=200|id=492|\"Link,l=28\"), (dim=200|id=720|\"Link,l=27\"))\n",
       "[29] ((dim=3|id=314|\"S=1,Site,n=29\"), (dim=200|id=170|\"Link,l=29\"), (dim=200|id=492|\"Link,l=28\"))\n",
       "[30] ((dim=3|id=917|\"S=1,Site,n=30\"), (dim=198|id=406|\"Link,l=30\"), (dim=200|id=170|\"Link,l=29\"))\n",
       "[31] ((dim=3|id=147|\"S=1,Site,n=31\"), (dim=194|id=732|\"Link,l=31\"), (dim=198|id=406|\"Link,l=30\"))\n",
       "[32] ((dim=3|id=445|\"S=1,Site,n=32\"), (dim=195|id=342|\"Link,l=32\"), (dim=194|id=732|\"Link,l=31\"))\n",
       "[33] ((dim=3|id=37|\"S=1,Site,n=33\"), (dim=193|id=248|\"Link,l=33\"), (dim=195|id=342|\"Link,l=32\"))\n",
       "[34] ((dim=3|id=740|\"S=1,Site,n=34\"), (dim=191|id=944|\"Link,l=34\"), (dim=193|id=248|\"Link,l=33\"))\n",
       "[35] ((dim=3|id=992|\"S=1,Site,n=35\"), (dim=188|id=42|\"Link,l=35\"), (dim=191|id=944|\"Link,l=34\"))\n",
       "[36] ((dim=3|id=388|\"S=1,Site,n=36\"), (dim=185|id=391|\"Link,l=36\"), (dim=188|id=42|\"Link,l=35\"))\n",
       "[37] ((dim=3|id=410|\"S=1,Site,n=37\"), (dim=184|id=126|\"Link,l=37\"), (dim=185|id=391|\"Link,l=36\"))\n",
       "[38] ((dim=3|id=933|\"S=1,Site,n=38\"), (dim=182|id=300|\"Link,l=38\"), (dim=184|id=126|\"Link,l=37\"))\n",
       "[39] ((dim=3|id=873|\"S=1,Site,n=39\"), (dim=179|id=720|\"Link,l=39\"), (dim=182|id=300|\"Link,l=38\"))\n",
       "[40] ((dim=3|id=619|\"S=1,Site,n=40\"), (dim=178|id=775|\"Link,l=40\"), (dim=179|id=720|\"Link,l=39\"))\n",
       "[41] ((dim=3|id=604|\"S=1,Site,n=41\"), (dim=180|id=180|\"Link,l=41\"), (dim=178|id=775|\"Link,l=40\"))\n",
       "[42] ((dim=3|id=0|\"S=1,Site,n=42\"), (dim=180|id=290|\"Link,l=42\"), (dim=180|id=180|\"Link,l=41\"))\n",
       "[43] ((dim=3|id=432|\"S=1,Site,n=43\"), (dim=182|id=536|\"Link,l=43\"), (dim=180|id=290|\"Link,l=42\"))\n",
       "[44] ((dim=3|id=116|\"S=1,Site,n=44\"), (dim=183|id=153|\"Link,l=44\"), (dim=182|id=536|\"Link,l=43\"))\n",
       "[45] ((dim=3|id=601|\"S=1,Site,n=45\"), (dim=185|id=400|\"Link,l=45\"), (dim=183|id=153|\"Link,l=44\"))\n",
       "[46] ((dim=3|id=553|\"S=1,Site,n=46\"), (dim=185|id=897|\"Link,l=46\"), (dim=185|id=400|\"Link,l=45\"))\n",
       "[47] ((dim=3|id=121|\"S=1,Site,n=47\"), (dim=182|id=405|\"Link,l=47\"), (dim=185|id=897|\"Link,l=46\"))\n",
       "[48] ((dim=3|id=216|\"S=1,Site,n=48\"), (dim=177|id=346|\"Link,l=48\"), (dim=182|id=405|\"Link,l=47\"))\n",
       "[49] ((dim=3|id=394|\"S=1,Site,n=49\"), (dim=171|id=82|\"Link,l=49\"), (dim=177|id=346|\"Link,l=48\"))\n",
       "[50] ((dim=3|id=172|\"S=1,Site,n=50\"), (dim=164|id=414|\"Link,l=50\"), (dim=171|id=82|\"Link,l=49\"))\n",
       "[51] ((dim=3|id=141|\"S=1,Site,n=51\"), (dim=157|id=239|\"Link,l=51\"), (dim=164|id=414|\"Link,l=50\"))\n",
       "[52] ((dim=3|id=863|\"S=1,Site,n=52\"), (dim=150|id=750|\"Link,l=52\"), (dim=157|id=239|\"Link,l=51\"))\n",
       "[53] ((dim=3|id=381|\"S=1,Site,n=53\"), (dim=144|id=359|\"Link,l=53\"), (dim=150|id=750|\"Link,l=52\"))\n",
       "[54] ((dim=3|id=700|\"S=1,Site,n=54\"), (dim=143|id=594|\"Link,l=54\"), (dim=144|id=359|\"Link,l=53\"))\n",
       "[55] ((dim=3|id=868|\"S=1,Site,n=55\"), (dim=139|id=891|\"Link,l=55\"), (dim=143|id=594|\"Link,l=54\"))\n",
       "[56] ((dim=3|id=199|\"S=1,Site,n=56\"), (dim=139|id=769|\"Link,l=56\"), (dim=139|id=891|\"Link,l=55\"))\n",
       "[57] ((dim=3|id=518|\"S=1,Site,n=57\"), (dim=138|id=663|\"Link,l=57\"), (dim=139|id=769|\"Link,l=56\"))\n",
       "[58] ((dim=3|id=373|\"S=1,Site,n=58\"), (dim=137|id=329|\"Link,l=58\"), (dim=138|id=663|\"Link,l=57\"))\n",
       "[59] ((dim=3|id=360|\"S=1,Site,n=59\"), (dim=134|id=833|\"Link,l=59\"), (dim=137|id=329|\"Link,l=58\"))\n",
       "[60] ((dim=3|id=810|\"S=1,Site,n=60\"), (dim=130|id=246|\"Link,l=60\"), (dim=134|id=833|\"Link,l=59\"))\n",
       "[61] ((dim=3|id=203|\"S=1,Site,n=61\"), (dim=131|id=741|\"Link,l=61\"), (dim=130|id=246|\"Link,l=60\"))\n",
       "[62] ((dim=3|id=580|\"S=1,Site,n=62\"), (dim=133|id=267|\"Link,l=62\"), (dim=131|id=741|\"Link,l=61\"))\n",
       "[63] ((dim=3|id=796|\"S=1,Site,n=63\"), (dim=138|id=710|\"Link,l=63\"), (dim=133|id=267|\"Link,l=62\"))\n",
       "[64] ((dim=3|id=307|\"S=1,Site,n=64\"), (dim=146|id=125|\"Link,l=64\"), (dim=138|id=710|\"Link,l=63\"))\n",
       "[65] ((dim=3|id=869|\"S=1,Site,n=65\"), (dim=154|id=641|\"Link,l=65\"), (dim=146|id=125|\"Link,l=64\"))\n",
       "[66] ((dim=3|id=724|\"S=1,Site,n=66\"), (dim=160|id=906|\"Link,l=66\"), (dim=154|id=641|\"Link,l=65\"))\n",
       "[67] ((dim=3|id=283|\"S=1,Site,n=67\"), (dim=165|id=402|\"Link,l=67\"), (dim=160|id=906|\"Link,l=66\"))\n",
       "[68] ((dim=3|id=566|\"S=1,Site,n=68\"), (dim=169|id=399|\"Link,l=68\"), (dim=165|id=402|\"Link,l=67\"))\n",
       "[69] ((dim=3|id=384|\"S=1,Site,n=69\"), (dim=173|id=696|\"Link,l=69\"), (dim=169|id=399|\"Link,l=68\"))\n",
       "[70] ((dim=3|id=876|\"S=1,Site,n=70\"), (dim=179|id=68|\"Link,l=70\"), (dim=173|id=696|\"Link,l=69\"))\n",
       "[71] ((dim=3|id=477|\"S=1,Site,n=71\"), (dim=179|id=443|\"Link,l=71\"), (dim=179|id=68|\"Link,l=70\"))\n",
       "[72] ((dim=3|id=193|\"S=1,Site,n=72\"), (dim=179|id=170|\"Link,l=72\"), (dim=179|id=443|\"Link,l=71\"))\n",
       "[73] ((dim=3|id=655|\"S=1,Site,n=73\"), (dim=174|id=748|\"Link,l=73\"), (dim=179|id=170|\"Link,l=72\"))\n",
       "[74] ((dim=3|id=251|\"S=1,Site,n=74\"), (dim=175|id=307|\"Link,l=74\"), (dim=174|id=748|\"Link,l=73\"))\n",
       "[75] ((dim=3|id=399|\"S=1,Site,n=75\"), (dim=177|id=606|\"Link,l=75\"), (dim=175|id=307|\"Link,l=74\"))\n",
       "[76] ((dim=3|id=930|\"S=1,Site,n=76\"), (dim=175|id=275|\"Link,l=76\"), (dim=177|id=606|\"Link,l=75\"))\n",
       "[77] ((dim=3|id=423|\"S=1,Site,n=77\"), (dim=172|id=733|\"Link,l=77\"), (dim=175|id=275|\"Link,l=76\"))\n",
       "[78] ((dim=3|id=718|\"S=1,Site,n=78\"), (dim=170|id=667|\"Link,l=78\"), (dim=172|id=733|\"Link,l=77\"))\n",
       "[79] ((dim=3|id=296|\"S=1,Site,n=79\"), (dim=170|id=819|\"Link,l=79\"), (dim=170|id=667|\"Link,l=78\"))\n",
       "[80] ((dim=3|id=487|\"S=1,Site,n=80\"), (dim=169|id=119|\"Link,l=80\"), (dim=170|id=819|\"Link,l=79\"))\n",
       "[81] ((dim=3|id=187|\"S=1,Site,n=81\"), (dim=167|id=163|\"Link,l=81\"), (dim=169|id=119|\"Link,l=80\"))\n",
       "[82] ((dim=3|id=174|\"S=1,Site,n=82\"), (dim=161|id=100|\"Link,l=82\"), (dim=167|id=163|\"Link,l=81\"))\n",
       "[83] ((dim=3|id=437|\"S=1,Site,n=83\"), (dim=163|id=643|\"Link,l=83\"), (dim=161|id=100|\"Link,l=82\"))\n",
       "[84] ((dim=3|id=170|\"S=1,Site,n=84\"), (dim=165|id=560|\"Link,l=84\"), (dim=163|id=643|\"Link,l=83\"))\n",
       "[85] ((dim=3|id=992|\"S=1,Site,n=85\"), (dim=167|id=703|\"Link,l=85\"), (dim=165|id=560|\"Link,l=84\"))\n",
       "[86] ((dim=3|id=532|\"S=1,Site,n=86\"), (dim=169|id=712|\"Link,l=86\"), (dim=167|id=703|\"Link,l=85\"))\n",
       "[87] ((dim=3|id=179|\"S=1,Site,n=87\"), (dim=169|id=222|\"Link,l=87\"), (dim=169|id=712|\"Link,l=86\"))\n",
       "[88] ((dim=3|id=968|\"S=1,Site,n=88\"), (dim=174|id=306|\"Link,l=88\"), (dim=169|id=222|\"Link,l=87\"))\n",
       "[89] ((dim=3|id=310|\"S=1,Site,n=89\"), (dim=180|id=349|\"Link,l=89\"), (dim=174|id=306|\"Link,l=88\"))\n",
       "[90] ((dim=3|id=688|\"S=1,Site,n=90\"), (dim=189|id=204|\"Link,l=90\"), (dim=180|id=349|\"Link,l=89\"))\n",
       "[91] ((dim=3|id=902|\"S=1,Site,n=91\"), (dim=200|id=297|\"Link,l=91\"), (dim=189|id=204|\"Link,l=90\"))\n",
       "[92] ((dim=3|id=328|\"S=1,Site,n=92\"), (dim=200|id=90|\"Link,l=92\"), (dim=200|id=297|\"Link,l=91\"))\n",
       "[93] ((dim=3|id=436|\"S=1,Site,n=93\"), (dim=193|id=633|\"Link,l=93\"), (dim=200|id=90|\"Link,l=92\"))\n",
       "[94] ((dim=3|id=412|\"S=1,Site,n=94\"), (dim=156|id=57|\"Link,l=94\"), (dim=193|id=633|\"Link,l=93\"))\n",
       "[95] ((dim=3|id=636|\"S=1,Site,n=95\"), (dim=100|id=257|\"Link,l=95\"), (dim=156|id=57|\"Link,l=94\"))\n",
       "[96] ((dim=3|id=249|\"S=1,Site,n=96\"), (dim=56|id=160|\"Link,l=96\"), (dim=100|id=257|\"Link,l=95\"))\n",
       "[97] ((dim=3|id=106|\"S=1,Site,n=97\"), (dim=25|id=300|\"Link,l=97\"), (dim=56|id=160|\"Link,l=96\"))\n",
       "[98] ((dim=3|id=334|\"S=1,Site,n=98\"), (dim=9|id=190|\"Link,l=98\"), (dim=25|id=300|\"Link,l=97\"))\n",
       "[99] ((dim=3|id=791|\"S=1,Site,n=99\"), (dim=3|id=362|\"Link,l=99\"), (dim=9|id=190|\"Link,l=98\"))\n",
       "[100] ((dim=3|id=640|\"S=1,Site,n=100\"), (dim=3|id=362|\"Link,l=99\"))\n",
       ")"
      ]
     },
     "metadata": {},
     "output_type": "display_data"
    }
   ],
   "source": [
    "energy,psi = dmrg(H,psi0;nsweeps,maxdim,cutoff)"
   ]
  },
  {
   "cell_type": "code",
   "execution_count": 57,
   "metadata": {},
   "outputs": [
    {
     "data": {
      "text/plain": [
       "-159.63506587769282"
      ]
     },
     "metadata": {},
     "output_type": "display_data"
    }
   ],
   "source": [
    "energy"
   ]
  },
  {
   "cell_type": "markdown",
   "metadata": {},
   "source": [
    "I should be able also to track the history of the system. A for loop shoudl do this explicitely."
   ]
  },
  {
   "cell_type": "code",
   "execution_count": 13,
   "metadata": {},
   "outputs": [
    {
     "name": "stdout",
     "output_type": "stream",
     "text": [
      "After sweep 1 energy=-53.54857139433463  maxlinkdim=12 maxerr=1.72E-02 time=11.623\n",
      "After sweep 1 energy=-73.54232153727993  maxlinkdim=14 maxerr=9.66E-05 time=0.069\n",
      "After sweep 1 energy=-81.7928344786385  maxlinkdim=18 maxerr=1.05E-05 time=0.204\n",
      "After sweep 1 energy=-83.74519300852722  maxlinkdim=26 maxerr=9.14E-07 time=0.157\n",
      "After sweep 1 energy=-80.76915985383505  maxlinkdim=42 maxerr=2.17E-07 time=0.850\n"
     ]
    }
   ],
   "source": [
    "energies = []\n",
    "ns = 1\n",
    "md = 200\n",
    "p = psi0\n",
    "\n",
    "for sweep=1:5\n",
    "    energy,p = dmrg(H,p;nsweeps=ns,maxdim=10+2^sweep,cutoff=cutoff)\n",
    "    push!(energies,energy)\n",
    "end\n"
   ]
  },
  {
   "cell_type": "code",
   "execution_count": 12,
   "metadata": {},
   "outputs": [
    {
     "name": "stdout",
     "output_type": "stream",
     "text": [
      "32"
     ]
    }
   ],
   "source": [
    "print(2^5)"
   ]
  },
  {
   "cell_type": "code",
   "execution_count": 31,
   "metadata": {},
   "outputs": [
    {
     "data": {
      "text/plain": [
       "Attributes with 1 entry:\n",
       "  Axis => Attributes with 2 entries:\n",
       "    xgridvisible => false\n",
       "    ygridvisible => false"
      ]
     },
     "metadata": {},
     "output_type": "display_data"
    }
   ],
   "source": [
    "using GLMakie\n",
    "theme = include(\"theme.jl\")\n",
    "theme isa Attributes && set_theme!(theme)"
   ]
  },
  {
   "cell_type": "code",
   "execution_count": 30,
   "metadata": {},
   "outputs": [
    {
     "data": {
      "image/png": "[encoded data removed]",
      "text/html": [
       "<img width=600 height=450 style='object-fit: contain; height: auto;' src=\"data:image/png;base64, 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\"/>"
      ]
     },
     "metadata": {},
     "output_type": "display_data"
    }
   ],
   "source": [
    "with_theme(custom_theme) do \n",
    "    lines(energies)\n",
    "end"
   ]
  },
  {
   "cell_type": "code",
   "execution_count": null,
   "metadata": {},
   "outputs": [],
   "source": []
  }
 ],
 "metadata": {
  "kernelspec": {
   "display_name": "Julia 1.11.0",
   "language": "julia",
   "name": "julia-1.11"
  },
  "language_info": {
   "file_extension": ".jl",
   "mimetype": "application/julia",
   "name": "julia",
   "version": "1.11.0"
  }
 },
 "nbformat": 4,
 "nbformat_minor": 2
}
